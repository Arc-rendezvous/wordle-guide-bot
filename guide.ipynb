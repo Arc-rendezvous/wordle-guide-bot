{
 "cells": [
  {
   "cell_type": "markdown",
   "metadata": {},
   "source": [
    "# Wordle Guide Bot\n",
    "\n",
    "For each trial, it will output list of word suggestions ranked with highest chance of winning. Simply input your guess word and guess state on each trial. For example, this scenario will be represented by its following program output:\n",
    "\n",
    "![Sample Scenario](./wordle_sample.png)\n",
    "\n",
    "```\n",
    "Suggestions: \n",
    "SANES -9.907\n",
    "SORES -9.917\n",
    "SALES -10.063\n",
    "SERES -10.063\n",
    "CARES -10.103\n",
    "SONES -10.138\n",
    "BARES -10.15\n",
    "SAREE -10.206\n",
    "SIRES -10.229\n",
    "SOLES -10.293\n",
    "\n",
    "Your guess: SANES\n",
    "Your state: 00000\n",
    "Trial 1:\n",
    "00000\n",
    "SANES\n",
    "Prob of win:  0.00\n",
    "Logp of win: -9.91\n",
    "=================\n",
    "\n",
    "Suggestions: \n",
    "COOLY -8.674\n",
    "COOTY -8.686\n",
    "BOOLY -8.888\n",
    "BOOTY -8.901\n",
    "POOLY -9.091\n",
    "POOTY -9.104\n",
    "COLLY -9.249\n",
    "COOMY -9.252\n",
    "DOOLY -9.29\n",
    "FOOTY -9.294\n",
    "\n",
    "Your guess: COOLY\n",
    "Your state: 22020\n",
    "Trial 2:\n",
    "22020\n",
    "COOLY\n",
    "Prob of win:  0.00\n",
    "Logp of win: -8.67\n",
    "=================\n",
    "\n",
    "Suggestions: \n",
    "COULD 0.0\n",
    "\n",
    "Your guess: COULD\n",
    "Your state: 22222\n",
    "Trial 3:\n",
    "22222\n",
    "COULD\n",
    "Prob of win:  1.00\n",
    "Logp of win: 0.00\n",
    "=================\n",
    "\n",
    "You Win!\n",
    "```"
   ]
  },
  {
   "cell_type": "code",
   "execution_count": 9,
   "metadata": {
    "ExecuteTime": {
     "end_time": "2022-01-29T07:09:03.084845Z",
     "start_time": "2022-01-29T07:09:03.065922Z"
    }
   },
   "outputs": [
    {
     "data": {
      "text/plain": [
       "['kbbi_vocab.txt', 'vocab_eng.txt', 'vocab_id.txt', 'words_alpha.txt']"
      ]
     },
     "execution_count": 9,
     "metadata": {},
     "output_type": "execute_result"
    }
   ],
   "source": [
    "import os\n",
    "from guide import play\n",
    "\n",
    "os.listdir(\"data/\")"
   ]
  },
  {
   "cell_type": "markdown",
   "metadata": {},
   "source": [
    "You can modify to indonesian version by suppling 'vocab_id.txt' to corpus_filepath arguments. Run the following cell to play"
   ]
  },
  {
   "cell_type": "code",
   "execution_count": 10,
   "metadata": {
    "ExecuteTime": {
     "end_time": "2022-01-29T07:10:22.267221Z",
     "start_time": "2022-01-29T07:09:10.847157Z"
    }
   },
   "outputs": [
    {
     "name": "stdout",
     "output_type": "stream",
     "text": [
      "Suggestions: \n",
      "SANES -9.907\n",
      "SORES -9.917\n",
      "SALES -10.063\n",
      "SERES -10.063\n",
      "CARES -10.103\n",
      "SONES -10.138\n",
      "BARES -10.15\n",
      "SAREE -10.206\n",
      "SIRES -10.229\n",
      "SOLES -10.293\n",
      "\n",
      "Your guess: SANES\n",
      "Your state: 00000\n",
      "Trial 1:\n",
      "00000\n",
      "SANES\n",
      "Prob of win:  0.00\n",
      "Logp of win: -9.91\n",
      "=================\n",
      "\n",
      "Suggestions: \n",
      "COOLY -8.674\n",
      "COOTY -8.686\n",
      "BOOLY -8.888\n",
      "BOOTY -8.901\n",
      "POOLY -9.091\n",
      "POOTY -9.104\n",
      "COLLY -9.249\n",
      "COOMY -9.252\n",
      "DOOLY -9.29\n",
      "FOOTY -9.294\n",
      "\n",
      "Your guess: COOLY\n",
      "Your state: 22020\n",
      "Trial 2:\n",
      "22020\n",
      "COOLY\n",
      "Prob of win:  0.00\n",
      "Logp of win: -8.67\n",
      "=================\n",
      "\n",
      "Suggestions: \n",
      "COULD 0.0\n",
      "\n",
      "Your guess: COULD\n",
      "Your state: 22222\n",
      "Trial 3:\n",
      "22222\n",
      "COULD\n",
      "Prob of win:  1.00\n",
      "Logp of win: 0.00\n",
      "=================\n",
      "\n",
      "You Win!\n"
     ]
    }
   ],
   "source": [
    "corpus_filepath = os.path.join('data', 'vocab_eng.txt')  # modify using your corpus file\n",
    "n = 10  # number of suggestion\n",
    "result = play(corpus_filepath, n, debug=True)"
   ]
  }
 ],
 "metadata": {
  "hide_input": false,
  "kernelspec": {
   "display_name": "Python 3",
   "language": "python",
   "name": "python3"
  },
  "language_info": {
   "codemirror_mode": {
    "name": "ipython",
    "version": 3
   },
   "file_extension": ".py",
   "mimetype": "text/x-python",
   "name": "python",
   "nbconvert_exporter": "python",
   "pygments_lexer": "ipython3",
   "version": "3.7.3"
  },
  "toc": {
   "base_numbering": 1,
   "nav_menu": {},
   "number_sections": true,
   "sideBar": true,
   "skip_h1_title": false,
   "title_cell": "Table of Contents",
   "title_sidebar": "Contents",
   "toc_cell": false,
   "toc_position": {},
   "toc_section_display": true,
   "toc_window_display": false
  }
 },
 "nbformat": 4,
 "nbformat_minor": 2
}
